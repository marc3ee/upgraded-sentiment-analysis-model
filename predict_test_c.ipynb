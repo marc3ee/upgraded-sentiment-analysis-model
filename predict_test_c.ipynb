{
 "cells": [
  {
   "cell_type": "code",
   "execution_count": 2,
   "id": "3ba7a245-92ac-4b87-870e-decbbb2c5e28",
   "metadata": {},
   "outputs": [],
   "source": [
    "import json\n",
    "import joblib\n",
    "import pandas as pd\n",
    "import pickle\n",
    "import re\n",
    "import scipy.sparse as sp"
   ]
  },
  {
   "cell_type": "code",
   "execution_count": 4,
   "id": "45baa03f-5837-4400-ada0-1d0a19009149",
   "metadata": {},
   "outputs": [],
   "source": [
    "# Load the new dataset\n",
    "new_dataset_path = 'test.csv'  # Update with your file path\n",
    "new_data = pd.read_csv(new_dataset_path)\n",
    "\n",
    "# Assuming the dataset has a 'review' column\n",
    "reviews = new_data['text']"
   ]
  },
  {
   "cell_type": "code",
   "execution_count": 6,
   "id": "7d6ba65e-8f94-4d6e-9065-4a14dedb5c66",
   "metadata": {},
   "outputs": [
    {
     "name": "stdout",
     "output_type": "stream",
     "text": [
      "Model and vectorizer loaded successfully!\n"
     ]
    }
   ],
   "source": [
    "import joblib\n",
    "\n",
    "# Load the saved model and vectorizer\n",
    "loaded_model = joblib.load('improved_logistic_regression_model.pkl')\n",
    "loaded_vectorizer = joblib.load('new_tfidf_vectorizer.pkl')\n",
    "\n",
    "print(\"Model and vectorizer loaded successfully!\")"
   ]
  },
  {
   "cell_type": "code",
   "execution_count": 8,
   "id": "ba7514fe-ef97-4c27-ab81-e9cf71b691e3",
   "metadata": {},
   "outputs": [],
   "source": [
    "# Replace NaN values in reviews with a placeholder\n",
    "new_data['text'] = new_data['text'].fillna('neutral')"
   ]
  },
  {
   "cell_type": "code",
   "execution_count": 10,
   "id": "e3bf48b8-b1aa-4b10-ae8a-b7c12f51c2d6",
   "metadata": {},
   "outputs": [],
   "source": [
    "# Transform the new reviews\n",
    "reviews_tfidf = loaded_vectorizer.transform(new_data['text'])"
   ]
  },
  {
   "cell_type": "code",
   "execution_count": 12,
   "id": "119ff4f2-aae2-4000-b2ce-1f666bde77d9",
   "metadata": {},
   "outputs": [],
   "source": [
    "# Predict sentiments\n",
    "predicted_sentiments = loaded_model.predict(reviews_tfidf)"
   ]
  },
  {
   "cell_type": "code",
   "execution_count": 14,
   "id": "9c938731-cca9-4bcb-9d63-ee4d20a335dc",
   "metadata": {},
   "outputs": [],
   "source": [
    "# Add predictions to the dataset\n",
    "new_data['predicted_sentiment'] = predicted_sentiments"
   ]
  },
  {
   "cell_type": "code",
   "execution_count": 16,
   "id": "c28ad7f5-3c78-45c6-a8d1-df7b3ee09d78",
   "metadata": {},
   "outputs": [
    {
     "name": "stdout",
     "output_type": "stream",
     "text": [
      "Predictions saved.\n"
     ]
    }
   ],
   "source": [
    "# Map numeric labels to sentiment names\n",
    "sentiment_mapping = {\n",
    "    1: 'Negative',\n",
    "    2: 'Neutral',\n",
    "    3: 'Positive',\n",
    "    4: 'Mixed'\n",
    "}\n",
    "new_data['sentiment_label'] = new_data['predicted_sentiment'].map(sentiment_mapping)\n",
    "\n",
    "# Save the dataset with predictions\n",
    "new_data.to_csv('dataset_c_predicitons.csv', index=False)\n",
    "print(\"Predictions saved.\")"
   ]
  },
  {
   "cell_type": "code",
   "execution_count": null,
   "id": "a11810d4-1640-464f-bc19-10c85a51921d",
   "metadata": {},
   "outputs": [],
   "source": []
  }
 ],
 "metadata": {
  "kernelspec": {
   "display_name": "Python 3 (ipykernel)",
   "language": "python",
   "name": "python3"
  },
  "language_info": {
   "codemirror_mode": {
    "name": "ipython",
    "version": 3
   },
   "file_extension": ".py",
   "mimetype": "text/x-python",
   "name": "python",
   "nbconvert_exporter": "python",
   "pygments_lexer": "ipython3",
   "version": "3.12.7"
  }
 },
 "nbformat": 4,
 "nbformat_minor": 5
}
