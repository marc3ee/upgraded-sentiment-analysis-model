{
 "cells": [
  {
   "cell_type": "markdown",
   "id": "9ea75a64-5136-4132-bc14-6e03c8f57ab4",
   "metadata": {},
   "source": [
    "Import Library/ies"
   ]
  },
  {
   "cell_type": "code",
   "execution_count": 160,
   "id": "f522f309-75b8-4064-8449-da252a3e77c8",
   "metadata": {},
   "outputs": [],
   "source": [
    "import json\n",
    "import joblib\n",
    "import pandas as pd\n",
    "import pickle\n",
    "import re\n",
    "import scipy.sparse as sp"
   ]
  },
  {
   "cell_type": "code",
   "execution_count": 134,
   "id": "fd01bf9d-0a81-4b04-862f-8adf3d0647c6",
   "metadata": {},
   "outputs": [],
   "source": [
    "def calculate_repetition_features(text):\n",
    "    if not isinstance(text, str):\n",
    "        text = \"\"  # Replace non-string or NaN values with an empty string\n",
    "    # Count word repetitions\n",
    "    words = text.split()\n",
    "    word_count = {word: words.count(word) for word in set(words)}\n",
    "    word_repetition = sum(count for count in word_count.values() if count > 1)\n",
    "\n",
    "    # Count letter repetitions\n",
    "    letter_repetition = len(re.findall(r'(.)\\1{2,}', text))  # Counts letters repeated 3 or more times\n",
    "\n",
    "    return pd.Series([word_repetition, letter_repetition])"
   ]
  },
  {
   "cell_type": "markdown",
   "id": "edcfd4af-a6fd-4a22-a9f8-87bf04ab193f",
   "metadata": {},
   "source": [
    "Load the model and vectorizer"
   ]
  },
  {
   "cell_type": "code",
   "execution_count": 137,
   "id": "d3a8bc27-6349-4267-8625-e81265d56302",
   "metadata": {},
   "outputs": [],
   "source": [
    "loaded_model = joblib.load('sentiment_model.pkl')\n",
    "loaded_vectorizer = joblib.load('tfidf_vectorizer.pkl')"
   ]
  },
  {
   "cell_type": "markdown",
   "id": "5d87c353-47a0-4798-912a-890089aae591",
   "metadata": {},
   "source": [
    "Load the JSON file"
   ]
  },
  {
   "cell_type": "code",
   "execution_count": 140,
   "id": "21504fb3-260f-4822-ae6d-d8fd03e86794",
   "metadata": {},
   "outputs": [],
   "source": [
    "df = pd.read_json('reviews.json')"
   ]
  },
  {
   "cell_type": "markdown",
   "id": "7fcfb6a4-e3ac-4e7f-afa9-73f4d7d81a5e",
   "metadata": {},
   "source": [
    "Convert to CSV file"
   ]
  },
  {
   "cell_type": "code",
   "execution_count": 143,
   "id": "520fc85c-38d4-4b01-ba53-e002f3476d30",
   "metadata": {},
   "outputs": [],
   "source": [
    "# Save as CSV\n",
    "df.to_csv('reviews.csv', index=False)"
   ]
  },
  {
   "cell_type": "markdown",
   "id": "65c7b404-075c-44a7-8f0e-42390db90a13",
   "metadata": {},
   "source": [
    "Load CSV data"
   ]
  },
  {
   "cell_type": "code",
   "execution_count": 146,
   "id": "eb97d2b4-16d1-4fea-a2db-59bee7a46ad1",
   "metadata": {},
   "outputs": [],
   "source": [
    "csv_file_path = 'reviews.csv'\n",
    "data = pd.read_csv(csv_file_path)"
   ]
  },
  {
   "cell_type": "code",
   "execution_count": 128,
   "id": "c0b4fd80-2f56-465c-a0bd-db7777824de2",
   "metadata": {},
   "outputs": [],
   "source": [
    "# Assuming 'review' column contains the text\n",
    "X_new = data['review']"
   ]
  },
  {
   "cell_type": "code",
   "execution_count": 150,
   "id": "4627b84f-9a61-47d6-b448-5d0142da641c",
   "metadata": {},
   "outputs": [],
   "source": [
    "# Ensure all reviews are strings and handle missing values\n",
    "X_new = data['review'].fillna(\"\").astype(str)"
   ]
  },
  {
   "cell_type": "code",
   "execution_count": 152,
   "id": "d1d04364-9c22-460f-9a41-c4c48913cdca",
   "metadata": {},
   "outputs": [],
   "source": [
    "# Extract repetition features\n",
    "repetition_features_new = X_new.apply(calculate_repetition_features)\n",
    "repetition_features_new.columns = ['word_repetition', 'letter_repetition']"
   ]
  },
  {
   "cell_type": "code",
   "execution_count": 156,
   "id": "f0d6f39e-3e08-41dc-a595-871489035a7c",
   "metadata": {},
   "outputs": [],
   "source": [
    "# Transform the text using the loaded vectorizer\n",
    "X_tfidf_new = loaded_vectorizer.transform(X_new)"
   ]
  },
  {
   "cell_type": "code",
   "execution_count": 162,
   "id": "74f46f45-2b68-4ff9-851a-47f68b5b6a83",
   "metadata": {},
   "outputs": [],
   "source": [
    "# Combine TF-IDF with repetition features\n",
    "X_combined_new = sp.hstack([X_tfidf_new, sp.csr_matrix(repetition_features_new.values)])"
   ]
  },
  {
   "cell_type": "code",
   "execution_count": 166,
   "id": "fbfd8f77-20d5-4405-8edd-2af321284557",
   "metadata": {},
   "outputs": [],
   "source": [
    "# Predict the sentiments\n",
    "predictions = loaded_model.predict(X_combined_new)"
   ]
  },
  {
   "cell_type": "code",
   "execution_count": 168,
   "id": "39b29325-cec4-42ef-9567-200315c609ba",
   "metadata": {},
   "outputs": [
    {
     "name": "stdout",
     "output_type": "stream",
     "text": [
      "Predictions saved to 'predicted_sentiments.csv'\n"
     ]
    }
   ],
   "source": [
    "# Add predictions to the dataset\n",
    "data['predicted_sentiment'] = predictions\n",
    "\n",
    "# Save the results to a CSV\n",
    "data.to_csv('datasetb_withpredictions.csv', index=False)\n",
    "\n",
    "print(\"Predictions saved to 'predicted_sentiments.csv'\")"
   ]
  },
  {
   "cell_type": "code",
   "execution_count": null,
   "id": "a8010b80-426a-4eb0-9749-c00502e9018a",
   "metadata": {},
   "outputs": [],
   "source": []
  }
 ],
 "metadata": {
  "kernelspec": {
   "display_name": "Python 3 (ipykernel)",
   "language": "python",
   "name": "python3"
  },
  "language_info": {
   "codemirror_mode": {
    "name": "ipython",
    "version": 3
   },
   "file_extension": ".py",
   "mimetype": "text/x-python",
   "name": "python",
   "nbconvert_exporter": "python",
   "pygments_lexer": "ipython3",
   "version": "3.12.7"
  }
 },
 "nbformat": 4,
 "nbformat_minor": 5
}
