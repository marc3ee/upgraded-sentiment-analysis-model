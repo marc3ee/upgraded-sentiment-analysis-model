{
 "cells": [
  {
   "cell_type": "markdown",
   "id": "9ea75a64-5136-4132-bc14-6e03c8f57ab4",
   "metadata": {},
   "source": [
    "Import Library/ies"
   ]
  },
  {
   "cell_type": "code",
   "execution_count": 1,
   "id": "f522f309-75b8-4064-8449-da252a3e77c8",
   "metadata": {},
   "outputs": [],
   "source": [
    "import joblib"
   ]
  },
  {
   "cell_type": "code",
   "execution_count": null,
   "id": "d3a8bc27-6349-4267-8625-e81265d56302",
   "metadata": {},
   "outputs": [],
   "source": [
    "# Save the trained model and vectorizer using joblib\n",
    "joblib.dump(model, 'sentiment_model.pkl')\n",
    "joblib.dump(vectorizer, 'tfidf_vectorizer.pkl')"
   ]
  }
 ],
 "metadata": {
  "kernelspec": {
   "display_name": "Python 3 (ipykernel)",
   "language": "python",
   "name": "python3"
  },
  "language_info": {
   "codemirror_mode": {
    "name": "ipython",
    "version": 3
   },
   "file_extension": ".py",
   "mimetype": "text/x-python",
   "name": "python",
   "nbconvert_exporter": "python",
   "pygments_lexer": "ipython3",
   "version": "3.12.7"
  }
 },
 "nbformat": 4,
 "nbformat_minor": 5
}
