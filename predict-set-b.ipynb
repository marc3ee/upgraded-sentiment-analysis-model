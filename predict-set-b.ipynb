{
 "cells": [
  {
   "cell_type": "markdown",
   "id": "9ea75a64-5136-4132-bc14-6e03c8f57ab4",
   "metadata": {},
   "source": [
    "Import Library/ies"
   ]
  },
  {
   "cell_type": "code",
   "execution_count": 83,
   "id": "f522f309-75b8-4064-8449-da252a3e77c8",
   "metadata": {},
   "outputs": [],
   "source": [
    "import json\n",
    "import joblib\n",
    "import pandas as pd\n",
    "import pickle"
   ]
  },
  {
   "cell_type": "markdown",
   "id": "edcfd4af-a6fd-4a22-a9f8-87bf04ab193f",
   "metadata": {},
   "source": [
    "Load the model and vectorizer"
   ]
  },
  {
   "cell_type": "code",
   "execution_count": 86,
   "id": "d3a8bc27-6349-4267-8625-e81265d56302",
   "metadata": {},
   "outputs": [],
   "source": [
    "loaded_model = joblib.load('sentiment_model.pkl')\n",
    "loaded_vectorizer = joblib.load('tfidf_vectorizer.pkl')"
   ]
  },
  {
   "cell_type": "markdown",
   "id": "5d87c353-47a0-4798-912a-890089aae591",
   "metadata": {},
   "source": [
    "Load the JSON file"
   ]
  },
  {
   "cell_type": "code",
   "execution_count": 89,
   "id": "21504fb3-260f-4822-ae6d-d8fd03e86794",
   "metadata": {},
   "outputs": [],
   "source": [
    "df = pd.read_json('reviews.json')"
   ]
  },
  {
   "cell_type": "markdown",
   "id": "7fcfb6a4-e3ac-4e7f-afa9-73f4d7d81a5e",
   "metadata": {},
   "source": [
    "Convert to CSV file"
   ]
  },
  {
   "cell_type": "code",
   "execution_count": 92,
   "id": "520fc85c-38d4-4b01-ba53-e002f3476d30",
   "metadata": {},
   "outputs": [],
   "source": [
    "# Save as CSV\n",
    "df.to_csv('reviews.csv', index=False)"
   ]
  },
  {
   "cell_type": "markdown",
   "id": "65c7b404-075c-44a7-8f0e-42390db90a13",
   "metadata": {},
   "source": [
    "Load CSV data"
   ]
  },
  {
   "cell_type": "code",
   "execution_count": 95,
   "id": "eb97d2b4-16d1-4fea-a2db-59bee7a46ad1",
   "metadata": {},
   "outputs": [],
   "source": [
    "csv_file_path = 'reviews.csv'\n",
    "data = pd.read_csv(csv_file_path)"
   ]
  },
  {
   "cell_type": "markdown",
   "id": "8c18c577-16aa-4109-aa62-6e341448bd07",
   "metadata": {},
   "source": [
    "Extract Reviews"
   ]
  },
  {
   "cell_type": "code",
   "execution_count": 98,
   "id": "d2ae4ee9-d599-4a57-86c4-eb6df6734cb6",
   "metadata": {},
   "outputs": [
    {
     "name": "stdout",
     "output_type": "stream",
     "text": [
      "Checking for NaN values in the review column...\n",
      "12\n"
     ]
    }
   ],
   "source": [
    "# Check for NaN values in the 'review' column\n",
    "print(\"Checking for NaN values in the review column...\")\n",
    "print(data['review'].isnull().sum())  # Count of NaN values\n",
    "\n",
    "# Handle NaN values - Option 1: Remove rows with NaN reviews\n",
    "data = data.dropna(subset=['review'])\n",
    "\n",
    "reviews = data['review'].tolist()"
   ]
  },
  {
   "cell_type": "markdown",
   "id": "4e4a8882-0a16-43de-a62d-f1d82e0106b7",
   "metadata": {},
   "source": [
    "Calculate the spam feature"
   ]
  },
  {
   "cell_type": "code",
   "execution_count": 101,
   "id": "43438c31-d6cf-45bc-aeb0-7642d3929646",
   "metadata": {},
   "outputs": [
    {
     "ename": "NameError",
     "evalue": "name 'calculate_repetition_features' is not defined",
     "output_type": "error",
     "traceback": [
      "\u001b[1;31m---------------------------------------------------------------------------\u001b[0m",
      "\u001b[1;31mNameError\u001b[0m                                 Traceback (most recent call last)",
      "Cell \u001b[1;32mIn[101], line 1\u001b[0m\n\u001b[1;32m----> 1\u001b[0m repetition_features_new \u001b[38;5;241m=\u001b[39m pd\u001b[38;5;241m.\u001b[39mDataFrame(reviews)\u001b[38;5;241m.\u001b[39mapply(calculate_repetition_features)\n\u001b[0;32m      2\u001b[0m repetition_features_new\u001b[38;5;241m.\u001b[39mcolumns \u001b[38;5;241m=\u001b[39m [\u001b[38;5;124m'\u001b[39m\u001b[38;5;124mword_repetition\u001b[39m\u001b[38;5;124m'\u001b[39m, \u001b[38;5;124m'\u001b[39m\u001b[38;5;124mletter_repetition\u001b[39m\u001b[38;5;124m'\u001b[39m]\n",
      "\u001b[1;31mNameError\u001b[0m: name 'calculate_repetition_features' is not defined"
     ]
    }
   ],
   "source": [
    "repetition_features_new = pd.DataFrame(reviews).apply(calculate_repetition_features)\n",
    "repetition_features_new.columns = ['word_repetition', 'letter_repetition']"
   ]
  },
  {
   "cell_type": "markdown",
   "id": "e4c9bef5-40e9-4589-99ea-00cbce57143f",
   "metadata": {},
   "source": [
    "Vectorize the reviews"
   ]
  },
  {
   "cell_type": "code",
   "execution_count": 73,
   "id": "b5d8442e-96a9-4ea1-8a89-ec0f3743f2ab",
   "metadata": {},
   "outputs": [],
   "source": [
    "reviews_tfidf = loaded_vectorizer.transform(reviews)"
   ]
  },
  {
   "cell_type": "markdown",
   "id": "7e17240c-5e4a-47c3-8395-b35569ffa911",
   "metadata": {},
   "source": [
    "Make predictions"
   ]
  },
  {
   "cell_type": "code",
   "execution_count": null,
   "id": "f11a727d-5552-412f-8a93-4c89ee83c1c9",
   "metadata": {},
   "outputs": [],
   "source": []
  }
 ],
 "metadata": {
  "kernelspec": {
   "display_name": "Python 3 (ipykernel)",
   "language": "python",
   "name": "python3"
  },
  "language_info": {
   "codemirror_mode": {
    "name": "ipython",
    "version": 3
   },
   "file_extension": ".py",
   "mimetype": "text/x-python",
   "name": "python",
   "nbconvert_exporter": "python",
   "pygments_lexer": "ipython3",
   "version": "3.12.7"
  }
 },
 "nbformat": 4,
 "nbformat_minor": 5
}
