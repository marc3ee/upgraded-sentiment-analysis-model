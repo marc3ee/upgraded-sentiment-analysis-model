{
 "cells": [
  {
   "cell_type": "code",
   "execution_count": 1,
   "id": "f67d4182-5240-4837-a441-eaa1560925e9",
   "metadata": {},
   "outputs": [],
   "source": [
    "import re\n",
    "import pandas as pd\n",
    "\n",
    "def calculate_repetition_features(text):\n",
    "    # Count word repetitions\n",
    "    words = text.split()\n",
    "    word_count = {word: words.count(word) for word in set(words)}\n",
    "    word_repetition = sum(count for count in word_count.values() if count > 1)\n",
    "\n",
    "    # Count letter repetitions\n",
    "    letter_repetition = len(re.findall(r'(.)\\1{2,}', text))  # Counts letters repeated 3 or more times\n",
    "\n",
    "    return pd.Series([word_repetition, letter_repetition])"
   ]
  },
  {
   "cell_type": "code",
   "execution_count": null,
   "id": "92189438-3672-4849-a8db-3bd2927214b5",
   "metadata": {},
   "outputs": [],
   "source": []
  }
 ],
 "metadata": {
  "kernelspec": {
   "display_name": "Python 3 (ipykernel)",
   "language": "python",
   "name": "python3"
  },
  "language_info": {
   "codemirror_mode": {
    "name": "ipython",
    "version": 3
   },
   "file_extension": ".py",
   "mimetype": "text/x-python",
   "name": "python",
   "nbconvert_exporter": "python",
   "pygments_lexer": "ipython3",
   "version": "3.12.7"
  }
 },
 "nbformat": 4,
 "nbformat_minor": 5
}
